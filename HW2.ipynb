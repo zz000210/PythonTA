{
 "cells": [
  {
   "cell_type": "code",
   "execution_count": 4,
   "outputs": [],
   "source": [
    "import pandas as pd"
   ],
   "metadata": {
    "collapsed": false,
    "pycharm": {
     "name": "#%%\n"
    }
   }
  },
  {
   "cell_type": "code",
   "execution_count": 5,
   "outputs": [],
   "source": [
    "df = pd.read_csv(\"./Data/flights.csv\", index_col=0)"
   ],
   "metadata": {
    "collapsed": false,
    "pycharm": {
     "name": "#%%\n"
    }
   }
  },
  {
   "cell_type": "markdown",
   "source": [
    "# 1."
   ],
   "metadata": {
    "collapsed": false,
    "pycharm": {
     "name": "#%% md\n"
    }
   }
  },
  {
   "cell_type": "code",
   "execution_count": 16,
   "outputs": [
    {
     "data": {
      "text/plain": "        year  month  day  dep_time  sched_dep_time  dep_delay  arr_time  \\\n120     2013      1    1     811.0             630      101.0    1047.0   \n136     2013      1    1     826.0             715       71.0    1136.0   \n152     2013      1    1     848.0            1835      853.0    1001.0   \n219     2013      1    1     957.0             733      144.0    1056.0   \n269     2013      1    1    1114.0             900      134.0    1447.0   \n...      ...    ...  ...       ...             ...        ...       ...   \n336743  2013      9   30    2119.0            2005       74.0    2310.0   \n336758  2013      9   30    2159.0            1845      194.0    2344.0   \n336761  2013      9   30    2211.0            2059       72.0    2339.0   \n336763  2013      9   30    2233.0            2113       80.0     112.0   \n336764  2013      9   30    2235.0            2001      154.0      59.0   \n\n        sched_arr_time  arr_delay carrier  flight tailnum origin dest  \\\n120                830      137.0      MQ    4576  N531MQ    LGA  CLT   \n136               1045       51.0      AA     443  N3GVAA    JFK  MIA   \n152               1950      851.0      MQ    3944  N942MQ    JFK  BWI   \n219                853      123.0      UA     856  N534UA    EWR  BOS   \n269               1222      145.0      UA    1086  N76502    LGA  IAH   \n...                ...        ...     ...     ...     ...    ...  ...   \n336743            2212       58.0      EV    4321  N17984    EWR  MCI   \n336758            2030      194.0      9E    3320  N906XJ    JFK  BUF   \n336761            2242       57.0      EV    4672  N12145    EWR  STL   \n336763              30       42.0      UA     471  N578UA    EWR  SFO   \n336764            2249      130.0      B6    1083  N804JB    JFK  MCO   \n\n        air_time  distance  hour  minute            time_hour  \n120        118.0       544     6      30  2013-01-01 06:00:00  \n136        160.0      1089     7      15  2013-01-01 07:00:00  \n152         41.0       184    18      35  2013-01-01 18:00:00  \n219         37.0       200     7      33  2013-01-01 07:00:00  \n269        248.0      1416     9       0  2013-01-01 09:00:00  \n...          ...       ...   ...     ...                  ...  \n336743     147.0      1092    20       5  2013-09-30 20:00:00  \n336758      50.0       301    18      45  2013-09-30 18:00:00  \n336761     120.0       872    20      59  2013-09-30 20:00:00  \n336763     318.0      2565    21      13  2013-09-30 21:00:00  \n336764     123.0       944    20       1  2013-09-30 20:00:00  \n\n[26581 rows x 19 columns]",
      "text/html": "<div>\n<style scoped>\n    .dataframe tbody tr th:only-of-type {\n        vertical-align: middle;\n    }\n\n    .dataframe tbody tr th {\n        vertical-align: top;\n    }\n\n    .dataframe thead th {\n        text-align: right;\n    }\n</style>\n<table border=\"1\" class=\"dataframe\">\n  <thead>\n    <tr style=\"text-align: right;\">\n      <th></th>\n      <th>year</th>\n      <th>month</th>\n      <th>day</th>\n      <th>dep_time</th>\n      <th>sched_dep_time</th>\n      <th>dep_delay</th>\n      <th>arr_time</th>\n      <th>sched_arr_time</th>\n      <th>arr_delay</th>\n      <th>carrier</th>\n      <th>flight</th>\n      <th>tailnum</th>\n      <th>origin</th>\n      <th>dest</th>\n      <th>air_time</th>\n      <th>distance</th>\n      <th>hour</th>\n      <th>minute</th>\n      <th>time_hour</th>\n    </tr>\n  </thead>\n  <tbody>\n    <tr>\n      <th>120</th>\n      <td>2013</td>\n      <td>1</td>\n      <td>1</td>\n      <td>811.0</td>\n      <td>630</td>\n      <td>101.0</td>\n      <td>1047.0</td>\n      <td>830</td>\n      <td>137.0</td>\n      <td>MQ</td>\n      <td>4576</td>\n      <td>N531MQ</td>\n      <td>LGA</td>\n      <td>CLT</td>\n      <td>118.0</td>\n      <td>544</td>\n      <td>6</td>\n      <td>30</td>\n      <td>2013-01-01 06:00:00</td>\n    </tr>\n    <tr>\n      <th>136</th>\n      <td>2013</td>\n      <td>1</td>\n      <td>1</td>\n      <td>826.0</td>\n      <td>715</td>\n      <td>71.0</td>\n      <td>1136.0</td>\n      <td>1045</td>\n      <td>51.0</td>\n      <td>AA</td>\n      <td>443</td>\n      <td>N3GVAA</td>\n      <td>JFK</td>\n      <td>MIA</td>\n      <td>160.0</td>\n      <td>1089</td>\n      <td>7</td>\n      <td>15</td>\n      <td>2013-01-01 07:00:00</td>\n    </tr>\n    <tr>\n      <th>152</th>\n      <td>2013</td>\n      <td>1</td>\n      <td>1</td>\n      <td>848.0</td>\n      <td>1835</td>\n      <td>853.0</td>\n      <td>1001.0</td>\n      <td>1950</td>\n      <td>851.0</td>\n      <td>MQ</td>\n      <td>3944</td>\n      <td>N942MQ</td>\n      <td>JFK</td>\n      <td>BWI</td>\n      <td>41.0</td>\n      <td>184</td>\n      <td>18</td>\n      <td>35</td>\n      <td>2013-01-01 18:00:00</td>\n    </tr>\n    <tr>\n      <th>219</th>\n      <td>2013</td>\n      <td>1</td>\n      <td>1</td>\n      <td>957.0</td>\n      <td>733</td>\n      <td>144.0</td>\n      <td>1056.0</td>\n      <td>853</td>\n      <td>123.0</td>\n      <td>UA</td>\n      <td>856</td>\n      <td>N534UA</td>\n      <td>EWR</td>\n      <td>BOS</td>\n      <td>37.0</td>\n      <td>200</td>\n      <td>7</td>\n      <td>33</td>\n      <td>2013-01-01 07:00:00</td>\n    </tr>\n    <tr>\n      <th>269</th>\n      <td>2013</td>\n      <td>1</td>\n      <td>1</td>\n      <td>1114.0</td>\n      <td>900</td>\n      <td>134.0</td>\n      <td>1447.0</td>\n      <td>1222</td>\n      <td>145.0</td>\n      <td>UA</td>\n      <td>1086</td>\n      <td>N76502</td>\n      <td>LGA</td>\n      <td>IAH</td>\n      <td>248.0</td>\n      <td>1416</td>\n      <td>9</td>\n      <td>0</td>\n      <td>2013-01-01 09:00:00</td>\n    </tr>\n    <tr>\n      <th>...</th>\n      <td>...</td>\n      <td>...</td>\n      <td>...</td>\n      <td>...</td>\n      <td>...</td>\n      <td>...</td>\n      <td>...</td>\n      <td>...</td>\n      <td>...</td>\n      <td>...</td>\n      <td>...</td>\n      <td>...</td>\n      <td>...</td>\n      <td>...</td>\n      <td>...</td>\n      <td>...</td>\n      <td>...</td>\n      <td>...</td>\n      <td>...</td>\n    </tr>\n    <tr>\n      <th>336743</th>\n      <td>2013</td>\n      <td>9</td>\n      <td>30</td>\n      <td>2119.0</td>\n      <td>2005</td>\n      <td>74.0</td>\n      <td>2310.0</td>\n      <td>2212</td>\n      <td>58.0</td>\n      <td>EV</td>\n      <td>4321</td>\n      <td>N17984</td>\n      <td>EWR</td>\n      <td>MCI</td>\n      <td>147.0</td>\n      <td>1092</td>\n      <td>20</td>\n      <td>5</td>\n      <td>2013-09-30 20:00:00</td>\n    </tr>\n    <tr>\n      <th>336758</th>\n      <td>2013</td>\n      <td>9</td>\n      <td>30</td>\n      <td>2159.0</td>\n      <td>1845</td>\n      <td>194.0</td>\n      <td>2344.0</td>\n      <td>2030</td>\n      <td>194.0</td>\n      <td>9E</td>\n      <td>3320</td>\n      <td>N906XJ</td>\n      <td>JFK</td>\n      <td>BUF</td>\n      <td>50.0</td>\n      <td>301</td>\n      <td>18</td>\n      <td>45</td>\n      <td>2013-09-30 18:00:00</td>\n    </tr>\n    <tr>\n      <th>336761</th>\n      <td>2013</td>\n      <td>9</td>\n      <td>30</td>\n      <td>2211.0</td>\n      <td>2059</td>\n      <td>72.0</td>\n      <td>2339.0</td>\n      <td>2242</td>\n      <td>57.0</td>\n      <td>EV</td>\n      <td>4672</td>\n      <td>N12145</td>\n      <td>EWR</td>\n      <td>STL</td>\n      <td>120.0</td>\n      <td>872</td>\n      <td>20</td>\n      <td>59</td>\n      <td>2013-09-30 20:00:00</td>\n    </tr>\n    <tr>\n      <th>336763</th>\n      <td>2013</td>\n      <td>9</td>\n      <td>30</td>\n      <td>2233.0</td>\n      <td>2113</td>\n      <td>80.0</td>\n      <td>112.0</td>\n      <td>30</td>\n      <td>42.0</td>\n      <td>UA</td>\n      <td>471</td>\n      <td>N578UA</td>\n      <td>EWR</td>\n      <td>SFO</td>\n      <td>318.0</td>\n      <td>2565</td>\n      <td>21</td>\n      <td>13</td>\n      <td>2013-09-30 21:00:00</td>\n    </tr>\n    <tr>\n      <th>336764</th>\n      <td>2013</td>\n      <td>9</td>\n      <td>30</td>\n      <td>2235.0</td>\n      <td>2001</td>\n      <td>154.0</td>\n      <td>59.0</td>\n      <td>2249</td>\n      <td>130.0</td>\n      <td>B6</td>\n      <td>1083</td>\n      <td>N804JB</td>\n      <td>JFK</td>\n      <td>MCO</td>\n      <td>123.0</td>\n      <td>944</td>\n      <td>20</td>\n      <td>1</td>\n      <td>2013-09-30 20:00:00</td>\n    </tr>\n  </tbody>\n</table>\n<p>26581 rows × 19 columns</p>\n</div>"
     },
     "execution_count": 16,
     "metadata": {},
     "output_type": "execute_result"
    }
   ],
   "source": [
    "# a. find flights whose dep_delay is greater than 60\n",
    "df[df['dep_delay'] > 60]"
   ],
   "metadata": {
    "collapsed": false,
    "pycharm": {
     "name": "#%%\n"
    }
   }
  },
  {
   "cell_type": "code",
   "execution_count": 8,
   "outputs": [
    {
     "data": {
      "text/plain": "        year  month  day  dep_time  sched_dep_time  dep_delay  arr_time  \\\n13      2013      1    1     558.0             600       -2.0     924.0   \n38      2013      1    1     628.0             630       -2.0    1016.0   \n64      2013      1    1     658.0             700       -2.0    1027.0   \n70      2013      1    1     702.0             700        2.0    1058.0   \n92      2013      1    1     743.0             730       13.0    1107.0   \n...      ...    ...  ...       ...             ...        ...       ...   \n336698  2013      9   30    2017.0            2017        0.0    2253.0   \n336705  2013      9   30    2028.0            1910       78.0    2255.0   \n336722  2013      9   30    2051.0            2054       -3.0    2348.0   \n336745  2013      9   30    2121.0            2100       21.0    2349.0   \n336752  2013      9   30    2140.0            2140        0.0      10.0   \n\n        sched_arr_time  arr_delay carrier  flight tailnum origin dest  \\\n13                 917        7.0      UA     194  N29129    JFK  LAX   \n38                 947       29.0      UA    1665  N33289    EWR  LAX   \n64                1025        2.0      VX     399  N627VA    JFK  LAX   \n70                1014       44.0      B6     671  N779JB    JFK  LAX   \n92                1100        7.0      AA      33  N338AA    JFK  LAX   \n...                ...        ...     ...     ...     ...    ...  ...   \n336698            2320      -27.0      UA     771  N510UA    JFK  LAX   \n336705            2215       40.0      AA      21  N338AA    JFK  LAX   \n336722            2359      -11.0      B6     523  N605JB    JFK  LAX   \n336745              14      -25.0      DL    2363  N193DN    JFK  LAX   \n336752              40      -30.0      AA     185  N335AA    JFK  LAX   \n\n        air_time  distance  hour  minute            time_hour  \n13         345.0      2475     6       0  2013-01-01 06:00:00  \n38         366.0      2454     6      30  2013-01-01 06:00:00  \n64         361.0      2475     7       0  2013-01-01 07:00:00  \n70         381.0      2475     7       0  2013-01-01 07:00:00  \n92         358.0      2475     7      30  2013-01-01 07:00:00  \n...          ...       ...   ...     ...                  ...  \n336698     304.0      2475    20      17  2013-09-30 20:00:00  \n336705     294.0      2475    19      10  2013-09-30 19:00:00  \n336722     304.0      2475    20      54  2013-09-30 20:00:00  \n336745     296.0      2475    21       0  2013-09-30 21:00:00  \n336752     298.0      2475    21      40  2013-09-30 21:00:00  \n\n[16174 rows x 19 columns]",
      "text/html": "<div>\n<style scoped>\n    .dataframe tbody tr th:only-of-type {\n        vertical-align: middle;\n    }\n\n    .dataframe tbody tr th {\n        vertical-align: top;\n    }\n\n    .dataframe thead th {\n        text-align: right;\n    }\n</style>\n<table border=\"1\" class=\"dataframe\">\n  <thead>\n    <tr style=\"text-align: right;\">\n      <th></th>\n      <th>year</th>\n      <th>month</th>\n      <th>day</th>\n      <th>dep_time</th>\n      <th>sched_dep_time</th>\n      <th>dep_delay</th>\n      <th>arr_time</th>\n      <th>sched_arr_time</th>\n      <th>arr_delay</th>\n      <th>carrier</th>\n      <th>flight</th>\n      <th>tailnum</th>\n      <th>origin</th>\n      <th>dest</th>\n      <th>air_time</th>\n      <th>distance</th>\n      <th>hour</th>\n      <th>minute</th>\n      <th>time_hour</th>\n    </tr>\n  </thead>\n  <tbody>\n    <tr>\n      <th>13</th>\n      <td>2013</td>\n      <td>1</td>\n      <td>1</td>\n      <td>558.0</td>\n      <td>600</td>\n      <td>-2.0</td>\n      <td>924.0</td>\n      <td>917</td>\n      <td>7.0</td>\n      <td>UA</td>\n      <td>194</td>\n      <td>N29129</td>\n      <td>JFK</td>\n      <td>LAX</td>\n      <td>345.0</td>\n      <td>2475</td>\n      <td>6</td>\n      <td>0</td>\n      <td>2013-01-01 06:00:00</td>\n    </tr>\n    <tr>\n      <th>38</th>\n      <td>2013</td>\n      <td>1</td>\n      <td>1</td>\n      <td>628.0</td>\n      <td>630</td>\n      <td>-2.0</td>\n      <td>1016.0</td>\n      <td>947</td>\n      <td>29.0</td>\n      <td>UA</td>\n      <td>1665</td>\n      <td>N33289</td>\n      <td>EWR</td>\n      <td>LAX</td>\n      <td>366.0</td>\n      <td>2454</td>\n      <td>6</td>\n      <td>30</td>\n      <td>2013-01-01 06:00:00</td>\n    </tr>\n    <tr>\n      <th>64</th>\n      <td>2013</td>\n      <td>1</td>\n      <td>1</td>\n      <td>658.0</td>\n      <td>700</td>\n      <td>-2.0</td>\n      <td>1027.0</td>\n      <td>1025</td>\n      <td>2.0</td>\n      <td>VX</td>\n      <td>399</td>\n      <td>N627VA</td>\n      <td>JFK</td>\n      <td>LAX</td>\n      <td>361.0</td>\n      <td>2475</td>\n      <td>7</td>\n      <td>0</td>\n      <td>2013-01-01 07:00:00</td>\n    </tr>\n    <tr>\n      <th>70</th>\n      <td>2013</td>\n      <td>1</td>\n      <td>1</td>\n      <td>702.0</td>\n      <td>700</td>\n      <td>2.0</td>\n      <td>1058.0</td>\n      <td>1014</td>\n      <td>44.0</td>\n      <td>B6</td>\n      <td>671</td>\n      <td>N779JB</td>\n      <td>JFK</td>\n      <td>LAX</td>\n      <td>381.0</td>\n      <td>2475</td>\n      <td>7</td>\n      <td>0</td>\n      <td>2013-01-01 07:00:00</td>\n    </tr>\n    <tr>\n      <th>92</th>\n      <td>2013</td>\n      <td>1</td>\n      <td>1</td>\n      <td>743.0</td>\n      <td>730</td>\n      <td>13.0</td>\n      <td>1107.0</td>\n      <td>1100</td>\n      <td>7.0</td>\n      <td>AA</td>\n      <td>33</td>\n      <td>N338AA</td>\n      <td>JFK</td>\n      <td>LAX</td>\n      <td>358.0</td>\n      <td>2475</td>\n      <td>7</td>\n      <td>30</td>\n      <td>2013-01-01 07:00:00</td>\n    </tr>\n    <tr>\n      <th>...</th>\n      <td>...</td>\n      <td>...</td>\n      <td>...</td>\n      <td>...</td>\n      <td>...</td>\n      <td>...</td>\n      <td>...</td>\n      <td>...</td>\n      <td>...</td>\n      <td>...</td>\n      <td>...</td>\n      <td>...</td>\n      <td>...</td>\n      <td>...</td>\n      <td>...</td>\n      <td>...</td>\n      <td>...</td>\n      <td>...</td>\n      <td>...</td>\n    </tr>\n    <tr>\n      <th>336698</th>\n      <td>2013</td>\n      <td>9</td>\n      <td>30</td>\n      <td>2017.0</td>\n      <td>2017</td>\n      <td>0.0</td>\n      <td>2253.0</td>\n      <td>2320</td>\n      <td>-27.0</td>\n      <td>UA</td>\n      <td>771</td>\n      <td>N510UA</td>\n      <td>JFK</td>\n      <td>LAX</td>\n      <td>304.0</td>\n      <td>2475</td>\n      <td>20</td>\n      <td>17</td>\n      <td>2013-09-30 20:00:00</td>\n    </tr>\n    <tr>\n      <th>336705</th>\n      <td>2013</td>\n      <td>9</td>\n      <td>30</td>\n      <td>2028.0</td>\n      <td>1910</td>\n      <td>78.0</td>\n      <td>2255.0</td>\n      <td>2215</td>\n      <td>40.0</td>\n      <td>AA</td>\n      <td>21</td>\n      <td>N338AA</td>\n      <td>JFK</td>\n      <td>LAX</td>\n      <td>294.0</td>\n      <td>2475</td>\n      <td>19</td>\n      <td>10</td>\n      <td>2013-09-30 19:00:00</td>\n    </tr>\n    <tr>\n      <th>336722</th>\n      <td>2013</td>\n      <td>9</td>\n      <td>30</td>\n      <td>2051.0</td>\n      <td>2054</td>\n      <td>-3.0</td>\n      <td>2348.0</td>\n      <td>2359</td>\n      <td>-11.0</td>\n      <td>B6</td>\n      <td>523</td>\n      <td>N605JB</td>\n      <td>JFK</td>\n      <td>LAX</td>\n      <td>304.0</td>\n      <td>2475</td>\n      <td>20</td>\n      <td>54</td>\n      <td>2013-09-30 20:00:00</td>\n    </tr>\n    <tr>\n      <th>336745</th>\n      <td>2013</td>\n      <td>9</td>\n      <td>30</td>\n      <td>2121.0</td>\n      <td>2100</td>\n      <td>21.0</td>\n      <td>2349.0</td>\n      <td>14</td>\n      <td>-25.0</td>\n      <td>DL</td>\n      <td>2363</td>\n      <td>N193DN</td>\n      <td>JFK</td>\n      <td>LAX</td>\n      <td>296.0</td>\n      <td>2475</td>\n      <td>21</td>\n      <td>0</td>\n      <td>2013-09-30 21:00:00</td>\n    </tr>\n    <tr>\n      <th>336752</th>\n      <td>2013</td>\n      <td>9</td>\n      <td>30</td>\n      <td>2140.0</td>\n      <td>2140</td>\n      <td>0.0</td>\n      <td>10.0</td>\n      <td>40</td>\n      <td>-30.0</td>\n      <td>AA</td>\n      <td>185</td>\n      <td>N335AA</td>\n      <td>JFK</td>\n      <td>LAX</td>\n      <td>298.0</td>\n      <td>2475</td>\n      <td>21</td>\n      <td>40</td>\n      <td>2013-09-30 21:00:00</td>\n    </tr>\n  </tbody>\n</table>\n<p>16174 rows × 19 columns</p>\n</div>"
     },
     "execution_count": 8,
     "metadata": {},
     "output_type": "execute_result"
    }
   ],
   "source": [
    "# b. find flights whose destination is LAX\n",
    "df[df['dest'] == \"LAX\"]"
   ],
   "metadata": {
    "collapsed": false,
    "pycharm": {
     "name": "#%%\n"
    }
   }
  },
  {
   "cell_type": "code",
   "execution_count": 15,
   "outputs": [
    {
     "data": {
      "text/plain": "        year  month  day  dep_time  sched_dep_time  dep_delay  arr_time  \\\n4       2013      1    1     544.0             545       -1.0    1004.0   \n7       2013      1    1     555.0             600       -5.0     913.0   \n8       2013      1    1     557.0             600       -3.0     709.0   \n9       2013      1    1     557.0             600       -3.0     838.0   \n11      2013      1    1     558.0             600       -2.0     849.0   \n...      ...    ...  ...       ...             ...        ...       ...   \n336772  2013      9   30       NaN            1455        NaN       NaN   \n336773  2013      9   30       NaN            2200        NaN       NaN   \n336774  2013      9   30       NaN            1210        NaN       NaN   \n336775  2013      9   30       NaN            1159        NaN       NaN   \n336776  2013      9   30       NaN             840        NaN       NaN   \n\n        sched_arr_time  arr_delay carrier  flight tailnum origin dest  \\\n4                 1022      -18.0      B6     725  N804JB    JFK  BQN   \n7                  854       19.0      B6     507  N516JB    EWR  FLL   \n8                  723      -14.0      EV    5708  N829AS    LGA  IAD   \n9                  846       -8.0      B6      79  N593JB    JFK  MCO   \n11                 851       -2.0      B6      49  N793JB    JFK  PBI   \n...                ...        ...     ...     ...     ...    ...  ...   \n336772            1634        NaN      9E    3393     NaN    JFK  DCA   \n336773            2312        NaN      9E    3525     NaN    LGA  SYR   \n336774            1330        NaN      MQ    3461  N535MQ    LGA  BNA   \n336775            1344        NaN      MQ    3572  N511MQ    LGA  CLE   \n336776            1020        NaN      MQ    3531  N839MQ    LGA  RDU   \n\n        air_time  distance  hour  minute            time_hour  \n4          183.0      1576     5      45  2013-01-01 05:00:00  \n7          158.0      1065     6       0  2013-01-01 06:00:00  \n8           53.0       229     6       0  2013-01-01 06:00:00  \n9          140.0       944     6       0  2013-01-01 06:00:00  \n11         149.0      1028     6       0  2013-01-01 06:00:00  \n...          ...       ...   ...     ...                  ...  \n336772       NaN       213    14      55  2013-09-30 14:00:00  \n336773       NaN       198    22       0  2013-09-30 22:00:00  \n336774       NaN       764    12      10  2013-09-30 12:00:00  \n336775       NaN       419    11      59  2013-09-30 11:00:00  \n336776       NaN       431     8      40  2013-09-30 08:00:00  \n\n[197272 rows x 19 columns]",
      "text/html": "<div>\n<style scoped>\n    .dataframe tbody tr th:only-of-type {\n        vertical-align: middle;\n    }\n\n    .dataframe tbody tr th {\n        vertical-align: top;\n    }\n\n    .dataframe thead th {\n        text-align: right;\n    }\n</style>\n<table border=\"1\" class=\"dataframe\">\n  <thead>\n    <tr style=\"text-align: right;\">\n      <th></th>\n      <th>year</th>\n      <th>month</th>\n      <th>day</th>\n      <th>dep_time</th>\n      <th>sched_dep_time</th>\n      <th>dep_delay</th>\n      <th>arr_time</th>\n      <th>sched_arr_time</th>\n      <th>arr_delay</th>\n      <th>carrier</th>\n      <th>flight</th>\n      <th>tailnum</th>\n      <th>origin</th>\n      <th>dest</th>\n      <th>air_time</th>\n      <th>distance</th>\n      <th>hour</th>\n      <th>minute</th>\n      <th>time_hour</th>\n    </tr>\n  </thead>\n  <tbody>\n    <tr>\n      <th>4</th>\n      <td>2013</td>\n      <td>1</td>\n      <td>1</td>\n      <td>544.0</td>\n      <td>545</td>\n      <td>-1.0</td>\n      <td>1004.0</td>\n      <td>1022</td>\n      <td>-18.0</td>\n      <td>B6</td>\n      <td>725</td>\n      <td>N804JB</td>\n      <td>JFK</td>\n      <td>BQN</td>\n      <td>183.0</td>\n      <td>1576</td>\n      <td>5</td>\n      <td>45</td>\n      <td>2013-01-01 05:00:00</td>\n    </tr>\n    <tr>\n      <th>7</th>\n      <td>2013</td>\n      <td>1</td>\n      <td>1</td>\n      <td>555.0</td>\n      <td>600</td>\n      <td>-5.0</td>\n      <td>913.0</td>\n      <td>854</td>\n      <td>19.0</td>\n      <td>B6</td>\n      <td>507</td>\n      <td>N516JB</td>\n      <td>EWR</td>\n      <td>FLL</td>\n      <td>158.0</td>\n      <td>1065</td>\n      <td>6</td>\n      <td>0</td>\n      <td>2013-01-01 06:00:00</td>\n    </tr>\n    <tr>\n      <th>8</th>\n      <td>2013</td>\n      <td>1</td>\n      <td>1</td>\n      <td>557.0</td>\n      <td>600</td>\n      <td>-3.0</td>\n      <td>709.0</td>\n      <td>723</td>\n      <td>-14.0</td>\n      <td>EV</td>\n      <td>5708</td>\n      <td>N829AS</td>\n      <td>LGA</td>\n      <td>IAD</td>\n      <td>53.0</td>\n      <td>229</td>\n      <td>6</td>\n      <td>0</td>\n      <td>2013-01-01 06:00:00</td>\n    </tr>\n    <tr>\n      <th>9</th>\n      <td>2013</td>\n      <td>1</td>\n      <td>1</td>\n      <td>557.0</td>\n      <td>600</td>\n      <td>-3.0</td>\n      <td>838.0</td>\n      <td>846</td>\n      <td>-8.0</td>\n      <td>B6</td>\n      <td>79</td>\n      <td>N593JB</td>\n      <td>JFK</td>\n      <td>MCO</td>\n      <td>140.0</td>\n      <td>944</td>\n      <td>6</td>\n      <td>0</td>\n      <td>2013-01-01 06:00:00</td>\n    </tr>\n    <tr>\n      <th>11</th>\n      <td>2013</td>\n      <td>1</td>\n      <td>1</td>\n      <td>558.0</td>\n      <td>600</td>\n      <td>-2.0</td>\n      <td>849.0</td>\n      <td>851</td>\n      <td>-2.0</td>\n      <td>B6</td>\n      <td>49</td>\n      <td>N793JB</td>\n      <td>JFK</td>\n      <td>PBI</td>\n      <td>149.0</td>\n      <td>1028</td>\n      <td>6</td>\n      <td>0</td>\n      <td>2013-01-01 06:00:00</td>\n    </tr>\n    <tr>\n      <th>...</th>\n      <td>...</td>\n      <td>...</td>\n      <td>...</td>\n      <td>...</td>\n      <td>...</td>\n      <td>...</td>\n      <td>...</td>\n      <td>...</td>\n      <td>...</td>\n      <td>...</td>\n      <td>...</td>\n      <td>...</td>\n      <td>...</td>\n      <td>...</td>\n      <td>...</td>\n      <td>...</td>\n      <td>...</td>\n      <td>...</td>\n      <td>...</td>\n    </tr>\n    <tr>\n      <th>336772</th>\n      <td>2013</td>\n      <td>9</td>\n      <td>30</td>\n      <td>NaN</td>\n      <td>1455</td>\n      <td>NaN</td>\n      <td>NaN</td>\n      <td>1634</td>\n      <td>NaN</td>\n      <td>9E</td>\n      <td>3393</td>\n      <td>NaN</td>\n      <td>JFK</td>\n      <td>DCA</td>\n      <td>NaN</td>\n      <td>213</td>\n      <td>14</td>\n      <td>55</td>\n      <td>2013-09-30 14:00:00</td>\n    </tr>\n    <tr>\n      <th>336773</th>\n      <td>2013</td>\n      <td>9</td>\n      <td>30</td>\n      <td>NaN</td>\n      <td>2200</td>\n      <td>NaN</td>\n      <td>NaN</td>\n      <td>2312</td>\n      <td>NaN</td>\n      <td>9E</td>\n      <td>3525</td>\n      <td>NaN</td>\n      <td>LGA</td>\n      <td>SYR</td>\n      <td>NaN</td>\n      <td>198</td>\n      <td>22</td>\n      <td>0</td>\n      <td>2013-09-30 22:00:00</td>\n    </tr>\n    <tr>\n      <th>336774</th>\n      <td>2013</td>\n      <td>9</td>\n      <td>30</td>\n      <td>NaN</td>\n      <td>1210</td>\n      <td>NaN</td>\n      <td>NaN</td>\n      <td>1330</td>\n      <td>NaN</td>\n      <td>MQ</td>\n      <td>3461</td>\n      <td>N535MQ</td>\n      <td>LGA</td>\n      <td>BNA</td>\n      <td>NaN</td>\n      <td>764</td>\n      <td>12</td>\n      <td>10</td>\n      <td>2013-09-30 12:00:00</td>\n    </tr>\n    <tr>\n      <th>336775</th>\n      <td>2013</td>\n      <td>9</td>\n      <td>30</td>\n      <td>NaN</td>\n      <td>1159</td>\n      <td>NaN</td>\n      <td>NaN</td>\n      <td>1344</td>\n      <td>NaN</td>\n      <td>MQ</td>\n      <td>3572</td>\n      <td>N511MQ</td>\n      <td>LGA</td>\n      <td>CLE</td>\n      <td>NaN</td>\n      <td>419</td>\n      <td>11</td>\n      <td>59</td>\n      <td>2013-09-30 11:00:00</td>\n    </tr>\n    <tr>\n      <th>336776</th>\n      <td>2013</td>\n      <td>9</td>\n      <td>30</td>\n      <td>NaN</td>\n      <td>840</td>\n      <td>NaN</td>\n      <td>NaN</td>\n      <td>1020</td>\n      <td>NaN</td>\n      <td>MQ</td>\n      <td>3531</td>\n      <td>N839MQ</td>\n      <td>LGA</td>\n      <td>RDU</td>\n      <td>NaN</td>\n      <td>431</td>\n      <td>8</td>\n      <td>40</td>\n      <td>2013-09-30 08:00:00</td>\n    </tr>\n  </tbody>\n</table>\n<p>197272 rows × 19 columns</p>\n</div>"
     },
     "execution_count": 15,
     "metadata": {},
     "output_type": "execute_result"
    }
   ],
   "source": [
    "# c. find flights whose carrier is not UA or AA or DL.\n",
    "df[~df['carrier'].isin([\"UA\", \"AA\", \"DL\"])]"
   ],
   "metadata": {
    "collapsed": false,
    "pycharm": {
     "name": "#%%\n"
    }
   }
  },
  {
   "cell_type": "code",
   "execution_count": 17,
   "outputs": [
    {
     "data": {
      "text/plain": "        year  month  day  dep_time  sched_dep_time  dep_delay  arr_time  \\\n222208  2013      6    1       2.0            2359        3.0     341.0   \n222209  2013      6    1     451.0             500       -9.0     624.0   \n222210  2013      6    1     506.0             515       -9.0     715.0   \n222211  2013      6    1     534.0             545      -11.0     800.0   \n222212  2013      6    1     538.0             545       -7.0     925.0   \n...      ...    ...  ...       ...             ...        ...       ...   \n309198  2013      8   31    2359.0            2359        0.0     346.0   \n309199  2013      8   31       NaN            1555        NaN       NaN   \n309200  2013      8   31       NaN             630        NaN       NaN   \n309201  2013      8   31       NaN            1004        NaN       NaN   \n309202  2013      8   31       NaN             600        NaN       NaN   \n\n        sched_arr_time  arr_delay carrier  flight tailnum origin dest  \\\n222208             350       -9.0      B6     739  N618JB    JFK  PSE   \n222209             640      -16.0      US    1431  N538UW    EWR  CLT   \n222210             800      -45.0      UA    1686  N35407    EWR  IAH   \n222211             829      -29.0      UA    1451  N27724    LGA  IAH   \n222212             922        3.0      B6     725  N806JB    JFK  BQN   \n...                ...        ...     ...     ...     ...    ...  ...   \n309198             340        6.0      B6     839  N645JB    JFK  BQN   \n309199            1734        NaN      9E    3459     NaN    JFK  BNA   \n309200             805        NaN      AA     303  N479AA    LGA  ORD   \n309201            1135        NaN      EV    5736  N909EV    LGA  IAD   \n309202             716        NaN      EV    5747  N825AS    LGA  IAD   \n\n        air_time  distance  hour  minute            time_hour  \n222208     200.0      1617    23      59  2013-06-01 23:00:00  \n222209      75.0       529     5       0  2013-06-01 05:00:00  \n222210     172.0      1400     5      15  2013-06-01 05:00:00  \n222211     178.0      1416     5      45  2013-06-01 05:00:00  \n222212     203.0      1576     5      45  2013-06-01 05:00:00  \n...          ...       ...   ...     ...                  ...  \n309198     193.0      1576    23      59  2013-08-31 23:00:00  \n309199       NaN       765    15      55  2013-08-31 15:00:00  \n309200       NaN       733     6      30  2013-08-31 06:00:00  \n309201       NaN       229    10       4  2013-08-31 10:00:00  \n309202       NaN       229     6       0  2013-08-31 06:00:00  \n\n[86995 rows x 19 columns]",
      "text/html": "<div>\n<style scoped>\n    .dataframe tbody tr th:only-of-type {\n        vertical-align: middle;\n    }\n\n    .dataframe tbody tr th {\n        vertical-align: top;\n    }\n\n    .dataframe thead th {\n        text-align: right;\n    }\n</style>\n<table border=\"1\" class=\"dataframe\">\n  <thead>\n    <tr style=\"text-align: right;\">\n      <th></th>\n      <th>year</th>\n      <th>month</th>\n      <th>day</th>\n      <th>dep_time</th>\n      <th>sched_dep_time</th>\n      <th>dep_delay</th>\n      <th>arr_time</th>\n      <th>sched_arr_time</th>\n      <th>arr_delay</th>\n      <th>carrier</th>\n      <th>flight</th>\n      <th>tailnum</th>\n      <th>origin</th>\n      <th>dest</th>\n      <th>air_time</th>\n      <th>distance</th>\n      <th>hour</th>\n      <th>minute</th>\n      <th>time_hour</th>\n    </tr>\n  </thead>\n  <tbody>\n    <tr>\n      <th>222208</th>\n      <td>2013</td>\n      <td>6</td>\n      <td>1</td>\n      <td>2.0</td>\n      <td>2359</td>\n      <td>3.0</td>\n      <td>341.0</td>\n      <td>350</td>\n      <td>-9.0</td>\n      <td>B6</td>\n      <td>739</td>\n      <td>N618JB</td>\n      <td>JFK</td>\n      <td>PSE</td>\n      <td>200.0</td>\n      <td>1617</td>\n      <td>23</td>\n      <td>59</td>\n      <td>2013-06-01 23:00:00</td>\n    </tr>\n    <tr>\n      <th>222209</th>\n      <td>2013</td>\n      <td>6</td>\n      <td>1</td>\n      <td>451.0</td>\n      <td>500</td>\n      <td>-9.0</td>\n      <td>624.0</td>\n      <td>640</td>\n      <td>-16.0</td>\n      <td>US</td>\n      <td>1431</td>\n      <td>N538UW</td>\n      <td>EWR</td>\n      <td>CLT</td>\n      <td>75.0</td>\n      <td>529</td>\n      <td>5</td>\n      <td>0</td>\n      <td>2013-06-01 05:00:00</td>\n    </tr>\n    <tr>\n      <th>222210</th>\n      <td>2013</td>\n      <td>6</td>\n      <td>1</td>\n      <td>506.0</td>\n      <td>515</td>\n      <td>-9.0</td>\n      <td>715.0</td>\n      <td>800</td>\n      <td>-45.0</td>\n      <td>UA</td>\n      <td>1686</td>\n      <td>N35407</td>\n      <td>EWR</td>\n      <td>IAH</td>\n      <td>172.0</td>\n      <td>1400</td>\n      <td>5</td>\n      <td>15</td>\n      <td>2013-06-01 05:00:00</td>\n    </tr>\n    <tr>\n      <th>222211</th>\n      <td>2013</td>\n      <td>6</td>\n      <td>1</td>\n      <td>534.0</td>\n      <td>545</td>\n      <td>-11.0</td>\n      <td>800.0</td>\n      <td>829</td>\n      <td>-29.0</td>\n      <td>UA</td>\n      <td>1451</td>\n      <td>N27724</td>\n      <td>LGA</td>\n      <td>IAH</td>\n      <td>178.0</td>\n      <td>1416</td>\n      <td>5</td>\n      <td>45</td>\n      <td>2013-06-01 05:00:00</td>\n    </tr>\n    <tr>\n      <th>222212</th>\n      <td>2013</td>\n      <td>6</td>\n      <td>1</td>\n      <td>538.0</td>\n      <td>545</td>\n      <td>-7.0</td>\n      <td>925.0</td>\n      <td>922</td>\n      <td>3.0</td>\n      <td>B6</td>\n      <td>725</td>\n      <td>N806JB</td>\n      <td>JFK</td>\n      <td>BQN</td>\n      <td>203.0</td>\n      <td>1576</td>\n      <td>5</td>\n      <td>45</td>\n      <td>2013-06-01 05:00:00</td>\n    </tr>\n    <tr>\n      <th>...</th>\n      <td>...</td>\n      <td>...</td>\n      <td>...</td>\n      <td>...</td>\n      <td>...</td>\n      <td>...</td>\n      <td>...</td>\n      <td>...</td>\n      <td>...</td>\n      <td>...</td>\n      <td>...</td>\n      <td>...</td>\n      <td>...</td>\n      <td>...</td>\n      <td>...</td>\n      <td>...</td>\n      <td>...</td>\n      <td>...</td>\n      <td>...</td>\n    </tr>\n    <tr>\n      <th>309198</th>\n      <td>2013</td>\n      <td>8</td>\n      <td>31</td>\n      <td>2359.0</td>\n      <td>2359</td>\n      <td>0.0</td>\n      <td>346.0</td>\n      <td>340</td>\n      <td>6.0</td>\n      <td>B6</td>\n      <td>839</td>\n      <td>N645JB</td>\n      <td>JFK</td>\n      <td>BQN</td>\n      <td>193.0</td>\n      <td>1576</td>\n      <td>23</td>\n      <td>59</td>\n      <td>2013-08-31 23:00:00</td>\n    </tr>\n    <tr>\n      <th>309199</th>\n      <td>2013</td>\n      <td>8</td>\n      <td>31</td>\n      <td>NaN</td>\n      <td>1555</td>\n      <td>NaN</td>\n      <td>NaN</td>\n      <td>1734</td>\n      <td>NaN</td>\n      <td>9E</td>\n      <td>3459</td>\n      <td>NaN</td>\n      <td>JFK</td>\n      <td>BNA</td>\n      <td>NaN</td>\n      <td>765</td>\n      <td>15</td>\n      <td>55</td>\n      <td>2013-08-31 15:00:00</td>\n    </tr>\n    <tr>\n      <th>309200</th>\n      <td>2013</td>\n      <td>8</td>\n      <td>31</td>\n      <td>NaN</td>\n      <td>630</td>\n      <td>NaN</td>\n      <td>NaN</td>\n      <td>805</td>\n      <td>NaN</td>\n      <td>AA</td>\n      <td>303</td>\n      <td>N479AA</td>\n      <td>LGA</td>\n      <td>ORD</td>\n      <td>NaN</td>\n      <td>733</td>\n      <td>6</td>\n      <td>30</td>\n      <td>2013-08-31 06:00:00</td>\n    </tr>\n    <tr>\n      <th>309201</th>\n      <td>2013</td>\n      <td>8</td>\n      <td>31</td>\n      <td>NaN</td>\n      <td>1004</td>\n      <td>NaN</td>\n      <td>NaN</td>\n      <td>1135</td>\n      <td>NaN</td>\n      <td>EV</td>\n      <td>5736</td>\n      <td>N909EV</td>\n      <td>LGA</td>\n      <td>IAD</td>\n      <td>NaN</td>\n      <td>229</td>\n      <td>10</td>\n      <td>4</td>\n      <td>2013-08-31 10:00:00</td>\n    </tr>\n    <tr>\n      <th>309202</th>\n      <td>2013</td>\n      <td>8</td>\n      <td>31</td>\n      <td>NaN</td>\n      <td>600</td>\n      <td>NaN</td>\n      <td>NaN</td>\n      <td>716</td>\n      <td>NaN</td>\n      <td>EV</td>\n      <td>5747</td>\n      <td>N825AS</td>\n      <td>LGA</td>\n      <td>IAD</td>\n      <td>NaN</td>\n      <td>229</td>\n      <td>6</td>\n      <td>0</td>\n      <td>2013-08-31 06:00:00</td>\n    </tr>\n  </tbody>\n</table>\n<p>86995 rows × 19 columns</p>\n</div>"
     },
     "execution_count": 17,
     "metadata": {},
     "output_type": "execute_result"
    }
   ],
   "source": [
    "# d. find flights whose departure month is in June, July or August.\n",
    "df[df[\"month\"].isin([6, 7, 8])]"
   ],
   "metadata": {
    "collapsed": false,
    "pycharm": {
     "name": "#%%\n"
    }
   }
  },
  {
   "cell_type": "code",
   "execution_count": 21,
   "outputs": [
    {
     "data": {
      "text/plain": "        year  month  day  dep_time  sched_dep_time  dep_delay  arr_time  \\\n235     2013      1    1    1025.0             951       34.0    1258.0   \n953     2013      1    2     727.0             645       42.0    1024.0   \n1724    2013      1    2    2053.0            2022       31.0    2331.0   \n2372    2013      1    3    1628.0            1550       38.0    1922.0   \n2670    2013      1    3    2152.0            2120       32.0    2346.0   \n...      ...    ...  ...       ...             ...        ...       ...   \n334828  2013      9   28    1946.0            1905       41.0    2119.0   \n334830  2013      9   28    2003.0            1930       33.0    2122.0   \n334846  2013      9   28    2041.0            2005       36.0    2247.0   \n336663  2013      9   30    1940.0            1900       40.0    2228.0   \n336683  2013      9   30    2005.0            1930       35.0    2118.0   \n\n        sched_arr_time  arr_delay carrier  flight tailnum origin dest  \\\n235               1302       -4.0      UA     501  N437UA    EWR  MCO   \n953               1028       -4.0      UA     277  N820UA    EWR  SNA   \n1724              2356      -25.0      UA     299  N539UA    EWR  SFO   \n2372              1925       -3.0      DL    1773  N675DL    JFK  SLC   \n2670              2351       -5.0      B6      97  N524JB    JFK  DEN   \n...                ...        ...     ...     ...     ...    ...  ...   \n334828            2131      -12.0      9E    3285  N915XJ    JFK  MSY   \n334830            2123       -1.0      9E    3497  N929XJ    JFK  RDU   \n334846            2300      -13.0      UA    1022  N36272    EWR  IAH   \n336663            2232       -4.0      DL    1465  N723TW    JFK  SFO   \n336683            2125       -7.0      9E    3497  N926XJ    JFK  RDU   \n\n        air_time  distance  hour  minute            time_hour  \n235        137.0       937     9      51  2013-01-01 09:00:00  \n953        338.0      2434     6      45  2013-01-02 06:00:00  \n1724       316.0      2565    20      22  2013-01-02 20:00:00  \n2372       266.0      1990    15      50  2013-01-03 15:00:00  \n2670       212.0      1626    21      20  2013-01-03 21:00:00  \n...          ...       ...   ...     ...                  ...  \n334828     137.0      1182    19       5  2013-09-28 19:00:00  \n334830      64.0       427    19      30  2013-09-28 19:00:00  \n334846     166.0      1400    20       5  2013-09-28 20:00:00  \n336663     323.0      2586    19       0  2013-09-30 19:00:00  \n336683      58.0       427    19      30  2013-09-30 19:00:00  \n\n[397 rows x 19 columns]",
      "text/html": "<div>\n<style scoped>\n    .dataframe tbody tr th:only-of-type {\n        vertical-align: middle;\n    }\n\n    .dataframe tbody tr th {\n        vertical-align: top;\n    }\n\n    .dataframe thead th {\n        text-align: right;\n    }\n</style>\n<table border=\"1\" class=\"dataframe\">\n  <thead>\n    <tr style=\"text-align: right;\">\n      <th></th>\n      <th>year</th>\n      <th>month</th>\n      <th>day</th>\n      <th>dep_time</th>\n      <th>sched_dep_time</th>\n      <th>dep_delay</th>\n      <th>arr_time</th>\n      <th>sched_arr_time</th>\n      <th>arr_delay</th>\n      <th>carrier</th>\n      <th>flight</th>\n      <th>tailnum</th>\n      <th>origin</th>\n      <th>dest</th>\n      <th>air_time</th>\n      <th>distance</th>\n      <th>hour</th>\n      <th>minute</th>\n      <th>time_hour</th>\n    </tr>\n  </thead>\n  <tbody>\n    <tr>\n      <th>235</th>\n      <td>2013</td>\n      <td>1</td>\n      <td>1</td>\n      <td>1025.0</td>\n      <td>951</td>\n      <td>34.0</td>\n      <td>1258.0</td>\n      <td>1302</td>\n      <td>-4.0</td>\n      <td>UA</td>\n      <td>501</td>\n      <td>N437UA</td>\n      <td>EWR</td>\n      <td>MCO</td>\n      <td>137.0</td>\n      <td>937</td>\n      <td>9</td>\n      <td>51</td>\n      <td>2013-01-01 09:00:00</td>\n    </tr>\n    <tr>\n      <th>953</th>\n      <td>2013</td>\n      <td>1</td>\n      <td>2</td>\n      <td>727.0</td>\n      <td>645</td>\n      <td>42.0</td>\n      <td>1024.0</td>\n      <td>1028</td>\n      <td>-4.0</td>\n      <td>UA</td>\n      <td>277</td>\n      <td>N820UA</td>\n      <td>EWR</td>\n      <td>SNA</td>\n      <td>338.0</td>\n      <td>2434</td>\n      <td>6</td>\n      <td>45</td>\n      <td>2013-01-02 06:00:00</td>\n    </tr>\n    <tr>\n      <th>1724</th>\n      <td>2013</td>\n      <td>1</td>\n      <td>2</td>\n      <td>2053.0</td>\n      <td>2022</td>\n      <td>31.0</td>\n      <td>2331.0</td>\n      <td>2356</td>\n      <td>-25.0</td>\n      <td>UA</td>\n      <td>299</td>\n      <td>N539UA</td>\n      <td>EWR</td>\n      <td>SFO</td>\n      <td>316.0</td>\n      <td>2565</td>\n      <td>20</td>\n      <td>22</td>\n      <td>2013-01-02 20:00:00</td>\n    </tr>\n    <tr>\n      <th>2372</th>\n      <td>2013</td>\n      <td>1</td>\n      <td>3</td>\n      <td>1628.0</td>\n      <td>1550</td>\n      <td>38.0</td>\n      <td>1922.0</td>\n      <td>1925</td>\n      <td>-3.0</td>\n      <td>DL</td>\n      <td>1773</td>\n      <td>N675DL</td>\n      <td>JFK</td>\n      <td>SLC</td>\n      <td>266.0</td>\n      <td>1990</td>\n      <td>15</td>\n      <td>50</td>\n      <td>2013-01-03 15:00:00</td>\n    </tr>\n    <tr>\n      <th>2670</th>\n      <td>2013</td>\n      <td>1</td>\n      <td>3</td>\n      <td>2152.0</td>\n      <td>2120</td>\n      <td>32.0</td>\n      <td>2346.0</td>\n      <td>2351</td>\n      <td>-5.0</td>\n      <td>B6</td>\n      <td>97</td>\n      <td>N524JB</td>\n      <td>JFK</td>\n      <td>DEN</td>\n      <td>212.0</td>\n      <td>1626</td>\n      <td>21</td>\n      <td>20</td>\n      <td>2013-01-03 21:00:00</td>\n    </tr>\n    <tr>\n      <th>...</th>\n      <td>...</td>\n      <td>...</td>\n      <td>...</td>\n      <td>...</td>\n      <td>...</td>\n      <td>...</td>\n      <td>...</td>\n      <td>...</td>\n      <td>...</td>\n      <td>...</td>\n      <td>...</td>\n      <td>...</td>\n      <td>...</td>\n      <td>...</td>\n      <td>...</td>\n      <td>...</td>\n      <td>...</td>\n      <td>...</td>\n      <td>...</td>\n    </tr>\n    <tr>\n      <th>334828</th>\n      <td>2013</td>\n      <td>9</td>\n      <td>28</td>\n      <td>1946.0</td>\n      <td>1905</td>\n      <td>41.0</td>\n      <td>2119.0</td>\n      <td>2131</td>\n      <td>-12.0</td>\n      <td>9E</td>\n      <td>3285</td>\n      <td>N915XJ</td>\n      <td>JFK</td>\n      <td>MSY</td>\n      <td>137.0</td>\n      <td>1182</td>\n      <td>19</td>\n      <td>5</td>\n      <td>2013-09-28 19:00:00</td>\n    </tr>\n    <tr>\n      <th>334830</th>\n      <td>2013</td>\n      <td>9</td>\n      <td>28</td>\n      <td>2003.0</td>\n      <td>1930</td>\n      <td>33.0</td>\n      <td>2122.0</td>\n      <td>2123</td>\n      <td>-1.0</td>\n      <td>9E</td>\n      <td>3497</td>\n      <td>N929XJ</td>\n      <td>JFK</td>\n      <td>RDU</td>\n      <td>64.0</td>\n      <td>427</td>\n      <td>19</td>\n      <td>30</td>\n      <td>2013-09-28 19:00:00</td>\n    </tr>\n    <tr>\n      <th>334846</th>\n      <td>2013</td>\n      <td>9</td>\n      <td>28</td>\n      <td>2041.0</td>\n      <td>2005</td>\n      <td>36.0</td>\n      <td>2247.0</td>\n      <td>2300</td>\n      <td>-13.0</td>\n      <td>UA</td>\n      <td>1022</td>\n      <td>N36272</td>\n      <td>EWR</td>\n      <td>IAH</td>\n      <td>166.0</td>\n      <td>1400</td>\n      <td>20</td>\n      <td>5</td>\n      <td>2013-09-28 20:00:00</td>\n    </tr>\n    <tr>\n      <th>336663</th>\n      <td>2013</td>\n      <td>9</td>\n      <td>30</td>\n      <td>1940.0</td>\n      <td>1900</td>\n      <td>40.0</td>\n      <td>2228.0</td>\n      <td>2232</td>\n      <td>-4.0</td>\n      <td>DL</td>\n      <td>1465</td>\n      <td>N723TW</td>\n      <td>JFK</td>\n      <td>SFO</td>\n      <td>323.0</td>\n      <td>2586</td>\n      <td>19</td>\n      <td>0</td>\n      <td>2013-09-30 19:00:00</td>\n    </tr>\n    <tr>\n      <th>336683</th>\n      <td>2013</td>\n      <td>9</td>\n      <td>30</td>\n      <td>2005.0</td>\n      <td>1930</td>\n      <td>35.0</td>\n      <td>2118.0</td>\n      <td>2125</td>\n      <td>-7.0</td>\n      <td>9E</td>\n      <td>3497</td>\n      <td>N926XJ</td>\n      <td>JFK</td>\n      <td>RDU</td>\n      <td>58.0</td>\n      <td>427</td>\n      <td>19</td>\n      <td>30</td>\n      <td>2013-09-30 19:00:00</td>\n    </tr>\n  </tbody>\n</table>\n<p>397 rows × 19 columns</p>\n</div>"
     },
     "execution_count": 21,
     "metadata": {},
     "output_type": "execute_result"
    }
   ],
   "source": [
    "# e. find flights whose dep_delay is greater than 30, but arr_delay is less than 0.\n",
    "df[(df[\"dep_delay\"] > 30) & (df[\"arr_delay\"] < 0)]"
   ],
   "metadata": {
    "collapsed": false,
    "pycharm": {
     "name": "#%%\n"
    }
   }
  },
  {
   "cell_type": "code",
   "execution_count": 24,
   "outputs": [
    {
     "data": {
      "text/plain": "        year  month  day  dep_time  sched_dep_time  dep_delay  arr_time  \\\n1       2013      1    1     517.0             515        2.0     830.0   \n2       2013      1    1     533.0             529        4.0     850.0   \n3       2013      1    1     542.0             540        2.0     923.0   \n4       2013      1    1     544.0             545       -1.0    1004.0   \n5       2013      1    1     554.0             600       -6.0     812.0   \n...      ...    ...  ...       ...             ...        ...       ...   \n335804  2013      9   30     558.0             600       -2.0     815.0   \n335805  2013      9   30     558.0             600       -2.0     742.0   \n335806  2013      9   30     559.0             600       -1.0       NaN   \n336769  2013      9   30    2307.0            2255       12.0    2359.0   \n336770  2013      9   30    2349.0            2359      -10.0     325.0   \n\n        sched_arr_time  arr_delay carrier  flight tailnum origin dest  \\\n1                  819       11.0      UA    1545  N14228    EWR  IAH   \n2                  830       20.0      UA    1714  N24211    LGA  IAH   \n3                  850       33.0      AA    1141  N619AA    JFK  MIA   \n4                 1022      -18.0      B6     725  N804JB    JFK  BQN   \n5                  837      -25.0      DL     461  N668DN    LGA  ATL   \n...                ...        ...     ...     ...     ...    ...  ...   \n335804             829      -14.0      EV    4137  N16981    EWR  ATL   \n335805             749       -7.0      DL     731  N337NB    LGA  DTW   \n335806             715        NaN      WN     464  N411WN    EWR  MDW   \n336769            2358        1.0      B6     718  N565JB    JFK  BOS   \n336770             350      -25.0      B6     745  N516JB    JFK  PSE   \n\n        air_time  distance  hour  minute            time_hour  \n1          227.0      1400     5      15  2013-01-01 05:00:00  \n2          227.0      1416     5      29  2013-01-01 05:00:00  \n3          160.0      1089     5      40  2013-01-01 05:00:00  \n4          183.0      1576     5      45  2013-01-01 05:00:00  \n5          116.0       762     6       0  2013-01-01 06:00:00  \n...          ...       ...   ...     ...                  ...  \n335804     107.0       746     6       0  2013-09-30 06:00:00  \n335805      83.0       502     6       0  2013-09-30 06:00:00  \n335806       NaN       711     6       0  2013-09-30 06:00:00  \n336769      33.0       187    22      55  2013-09-30 22:00:00  \n336770     196.0      1617    23      59  2013-09-30 23:00:00  \n\n[11311 rows x 19 columns]",
      "text/html": "<div>\n<style scoped>\n    .dataframe tbody tr th:only-of-type {\n        vertical-align: middle;\n    }\n\n    .dataframe tbody tr th {\n        vertical-align: top;\n    }\n\n    .dataframe thead th {\n        text-align: right;\n    }\n</style>\n<table border=\"1\" class=\"dataframe\">\n  <thead>\n    <tr style=\"text-align: right;\">\n      <th></th>\n      <th>year</th>\n      <th>month</th>\n      <th>day</th>\n      <th>dep_time</th>\n      <th>sched_dep_time</th>\n      <th>dep_delay</th>\n      <th>arr_time</th>\n      <th>sched_arr_time</th>\n      <th>arr_delay</th>\n      <th>carrier</th>\n      <th>flight</th>\n      <th>tailnum</th>\n      <th>origin</th>\n      <th>dest</th>\n      <th>air_time</th>\n      <th>distance</th>\n      <th>hour</th>\n      <th>minute</th>\n      <th>time_hour</th>\n    </tr>\n  </thead>\n  <tbody>\n    <tr>\n      <th>1</th>\n      <td>2013</td>\n      <td>1</td>\n      <td>1</td>\n      <td>517.0</td>\n      <td>515</td>\n      <td>2.0</td>\n      <td>830.0</td>\n      <td>819</td>\n      <td>11.0</td>\n      <td>UA</td>\n      <td>1545</td>\n      <td>N14228</td>\n      <td>EWR</td>\n      <td>IAH</td>\n      <td>227.0</td>\n      <td>1400</td>\n      <td>5</td>\n      <td>15</td>\n      <td>2013-01-01 05:00:00</td>\n    </tr>\n    <tr>\n      <th>2</th>\n      <td>2013</td>\n      <td>1</td>\n      <td>1</td>\n      <td>533.0</td>\n      <td>529</td>\n      <td>4.0</td>\n      <td>850.0</td>\n      <td>830</td>\n      <td>20.0</td>\n      <td>UA</td>\n      <td>1714</td>\n      <td>N24211</td>\n      <td>LGA</td>\n      <td>IAH</td>\n      <td>227.0</td>\n      <td>1416</td>\n      <td>5</td>\n      <td>29</td>\n      <td>2013-01-01 05:00:00</td>\n    </tr>\n    <tr>\n      <th>3</th>\n      <td>2013</td>\n      <td>1</td>\n      <td>1</td>\n      <td>542.0</td>\n      <td>540</td>\n      <td>2.0</td>\n      <td>923.0</td>\n      <td>850</td>\n      <td>33.0</td>\n      <td>AA</td>\n      <td>1141</td>\n      <td>N619AA</td>\n      <td>JFK</td>\n      <td>MIA</td>\n      <td>160.0</td>\n      <td>1089</td>\n      <td>5</td>\n      <td>40</td>\n      <td>2013-01-01 05:00:00</td>\n    </tr>\n    <tr>\n      <th>4</th>\n      <td>2013</td>\n      <td>1</td>\n      <td>1</td>\n      <td>544.0</td>\n      <td>545</td>\n      <td>-1.0</td>\n      <td>1004.0</td>\n      <td>1022</td>\n      <td>-18.0</td>\n      <td>B6</td>\n      <td>725</td>\n      <td>N804JB</td>\n      <td>JFK</td>\n      <td>BQN</td>\n      <td>183.0</td>\n      <td>1576</td>\n      <td>5</td>\n      <td>45</td>\n      <td>2013-01-01 05:00:00</td>\n    </tr>\n    <tr>\n      <th>5</th>\n      <td>2013</td>\n      <td>1</td>\n      <td>1</td>\n      <td>554.0</td>\n      <td>600</td>\n      <td>-6.0</td>\n      <td>812.0</td>\n      <td>837</td>\n      <td>-25.0</td>\n      <td>DL</td>\n      <td>461</td>\n      <td>N668DN</td>\n      <td>LGA</td>\n      <td>ATL</td>\n      <td>116.0</td>\n      <td>762</td>\n      <td>6</td>\n      <td>0</td>\n      <td>2013-01-01 06:00:00</td>\n    </tr>\n    <tr>\n      <th>...</th>\n      <td>...</td>\n      <td>...</td>\n      <td>...</td>\n      <td>...</td>\n      <td>...</td>\n      <td>...</td>\n      <td>...</td>\n      <td>...</td>\n      <td>...</td>\n      <td>...</td>\n      <td>...</td>\n      <td>...</td>\n      <td>...</td>\n      <td>...</td>\n      <td>...</td>\n      <td>...</td>\n      <td>...</td>\n      <td>...</td>\n      <td>...</td>\n    </tr>\n    <tr>\n      <th>335804</th>\n      <td>2013</td>\n      <td>9</td>\n      <td>30</td>\n      <td>558.0</td>\n      <td>600</td>\n      <td>-2.0</td>\n      <td>815.0</td>\n      <td>829</td>\n      <td>-14.0</td>\n      <td>EV</td>\n      <td>4137</td>\n      <td>N16981</td>\n      <td>EWR</td>\n      <td>ATL</td>\n      <td>107.0</td>\n      <td>746</td>\n      <td>6</td>\n      <td>0</td>\n      <td>2013-09-30 06:00:00</td>\n    </tr>\n    <tr>\n      <th>335805</th>\n      <td>2013</td>\n      <td>9</td>\n      <td>30</td>\n      <td>558.0</td>\n      <td>600</td>\n      <td>-2.0</td>\n      <td>742.0</td>\n      <td>749</td>\n      <td>-7.0</td>\n      <td>DL</td>\n      <td>731</td>\n      <td>N337NB</td>\n      <td>LGA</td>\n      <td>DTW</td>\n      <td>83.0</td>\n      <td>502</td>\n      <td>6</td>\n      <td>0</td>\n      <td>2013-09-30 06:00:00</td>\n    </tr>\n    <tr>\n      <th>335806</th>\n      <td>2013</td>\n      <td>9</td>\n      <td>30</td>\n      <td>559.0</td>\n      <td>600</td>\n      <td>-1.0</td>\n      <td>NaN</td>\n      <td>715</td>\n      <td>NaN</td>\n      <td>WN</td>\n      <td>464</td>\n      <td>N411WN</td>\n      <td>EWR</td>\n      <td>MDW</td>\n      <td>NaN</td>\n      <td>711</td>\n      <td>6</td>\n      <td>0</td>\n      <td>2013-09-30 06:00:00</td>\n    </tr>\n    <tr>\n      <th>336769</th>\n      <td>2013</td>\n      <td>9</td>\n      <td>30</td>\n      <td>2307.0</td>\n      <td>2255</td>\n      <td>12.0</td>\n      <td>2359.0</td>\n      <td>2358</td>\n      <td>1.0</td>\n      <td>B6</td>\n      <td>718</td>\n      <td>N565JB</td>\n      <td>JFK</td>\n      <td>BOS</td>\n      <td>33.0</td>\n      <td>187</td>\n      <td>22</td>\n      <td>55</td>\n      <td>2013-09-30 22:00:00</td>\n    </tr>\n    <tr>\n      <th>336770</th>\n      <td>2013</td>\n      <td>9</td>\n      <td>30</td>\n      <td>2349.0</td>\n      <td>2359</td>\n      <td>-10.0</td>\n      <td>325.0</td>\n      <td>350</td>\n      <td>-25.0</td>\n      <td>B6</td>\n      <td>745</td>\n      <td>N516JB</td>\n      <td>JFK</td>\n      <td>PSE</td>\n      <td>196.0</td>\n      <td>1617</td>\n      <td>23</td>\n      <td>59</td>\n      <td>2013-09-30 23:00:00</td>\n    </tr>\n  </tbody>\n</table>\n<p>11311 rows × 19 columns</p>\n</div>"
     },
     "execution_count": 24,
     "metadata": {},
     "output_type": "execute_result"
    }
   ],
   "source": [
    "# f. find flights whose dep_time is over 11pm, or dep_time is earlier than 6am.\n",
    "df[(df['dep_time']>2300) | (df['dep_time']<600)]"
   ],
   "metadata": {
    "collapsed": false,
    "pycharm": {
     "name": "#%%\n"
    }
   }
  },
  {
   "cell_type": "markdown",
   "source": [
    "# 2."
   ],
   "metadata": {
    "collapsed": false,
    "pycharm": {
     "name": "#%% md\n"
    }
   }
  },
  {
   "cell_type": "code",
   "execution_count": 27,
   "outputs": [
    {
     "data": {
      "text/plain": "        year  month  day  dep_time  sched_dep_time  dep_delay  arr_time  \\\n755     2013      1    1    2016.0            1930       46.0       NaN   \n839     2013      1    1       NaN            1630        NaN       NaN   \n840     2013      1    1       NaN            1935        NaN       NaN   \n841     2013      1    1       NaN            1500        NaN       NaN   \n842     2013      1    1       NaN             600        NaN       NaN   \n...      ...    ...  ...       ...             ...        ...       ...   \n336772  2013      9   30       NaN            1455        NaN       NaN   \n336773  2013      9   30       NaN            2200        NaN       NaN   \n336774  2013      9   30       NaN            1210        NaN       NaN   \n336775  2013      9   30       NaN            1159        NaN       NaN   \n336776  2013      9   30       NaN             840        NaN       NaN   \n\n        sched_arr_time  arr_delay carrier  flight tailnum origin dest  \\\n755               2220        NaN      EV    4204  N14168    EWR  OKC   \n839               1815        NaN      EV    4308  N18120    EWR  RDU   \n840               2240        NaN      AA     791  N3EHAA    LGA  DFW   \n841               1825        NaN      AA    1925  N3EVAA    LGA  MIA   \n842                901        NaN      B6     125  N618JB    JFK  FLL   \n...                ...        ...     ...     ...     ...    ...  ...   \n336772            1634        NaN      9E    3393     NaN    JFK  DCA   \n336773            2312        NaN      9E    3525     NaN    LGA  SYR   \n336774            1330        NaN      MQ    3461  N535MQ    LGA  BNA   \n336775            1344        NaN      MQ    3572  N511MQ    LGA  CLE   \n336776            1020        NaN      MQ    3531  N839MQ    LGA  RDU   \n\n        air_time  distance  hour  minute            time_hour  \n755          NaN      1325    19      30  2013-01-01 19:00:00  \n839          NaN       416    16      30  2013-01-01 16:00:00  \n840          NaN      1389    19      35  2013-01-01 19:00:00  \n841          NaN      1096    15       0  2013-01-01 15:00:00  \n842          NaN      1069     6       0  2013-01-01 06:00:00  \n...          ...       ...   ...     ...                  ...  \n336772       NaN       213    14      55  2013-09-30 14:00:00  \n336773       NaN       198    22       0  2013-09-30 22:00:00  \n336774       NaN       764    12      10  2013-09-30 12:00:00  \n336775       NaN       419    11      59  2013-09-30 11:00:00  \n336776       NaN       431     8      40  2013-09-30 08:00:00  \n\n[8713 rows x 19 columns]",
      "text/html": "<div>\n<style scoped>\n    .dataframe tbody tr th:only-of-type {\n        vertical-align: middle;\n    }\n\n    .dataframe tbody tr th {\n        vertical-align: top;\n    }\n\n    .dataframe thead th {\n        text-align: right;\n    }\n</style>\n<table border=\"1\" class=\"dataframe\">\n  <thead>\n    <tr style=\"text-align: right;\">\n      <th></th>\n      <th>year</th>\n      <th>month</th>\n      <th>day</th>\n      <th>dep_time</th>\n      <th>sched_dep_time</th>\n      <th>dep_delay</th>\n      <th>arr_time</th>\n      <th>sched_arr_time</th>\n      <th>arr_delay</th>\n      <th>carrier</th>\n      <th>flight</th>\n      <th>tailnum</th>\n      <th>origin</th>\n      <th>dest</th>\n      <th>air_time</th>\n      <th>distance</th>\n      <th>hour</th>\n      <th>minute</th>\n      <th>time_hour</th>\n    </tr>\n  </thead>\n  <tbody>\n    <tr>\n      <th>755</th>\n      <td>2013</td>\n      <td>1</td>\n      <td>1</td>\n      <td>2016.0</td>\n      <td>1930</td>\n      <td>46.0</td>\n      <td>NaN</td>\n      <td>2220</td>\n      <td>NaN</td>\n      <td>EV</td>\n      <td>4204</td>\n      <td>N14168</td>\n      <td>EWR</td>\n      <td>OKC</td>\n      <td>NaN</td>\n      <td>1325</td>\n      <td>19</td>\n      <td>30</td>\n      <td>2013-01-01 19:00:00</td>\n    </tr>\n    <tr>\n      <th>839</th>\n      <td>2013</td>\n      <td>1</td>\n      <td>1</td>\n      <td>NaN</td>\n      <td>1630</td>\n      <td>NaN</td>\n      <td>NaN</td>\n      <td>1815</td>\n      <td>NaN</td>\n      <td>EV</td>\n      <td>4308</td>\n      <td>N18120</td>\n      <td>EWR</td>\n      <td>RDU</td>\n      <td>NaN</td>\n      <td>416</td>\n      <td>16</td>\n      <td>30</td>\n      <td>2013-01-01 16:00:00</td>\n    </tr>\n    <tr>\n      <th>840</th>\n      <td>2013</td>\n      <td>1</td>\n      <td>1</td>\n      <td>NaN</td>\n      <td>1935</td>\n      <td>NaN</td>\n      <td>NaN</td>\n      <td>2240</td>\n      <td>NaN</td>\n      <td>AA</td>\n      <td>791</td>\n      <td>N3EHAA</td>\n      <td>LGA</td>\n      <td>DFW</td>\n      <td>NaN</td>\n      <td>1389</td>\n      <td>19</td>\n      <td>35</td>\n      <td>2013-01-01 19:00:00</td>\n    </tr>\n    <tr>\n      <th>841</th>\n      <td>2013</td>\n      <td>1</td>\n      <td>1</td>\n      <td>NaN</td>\n      <td>1500</td>\n      <td>NaN</td>\n      <td>NaN</td>\n      <td>1825</td>\n      <td>NaN</td>\n      <td>AA</td>\n      <td>1925</td>\n      <td>N3EVAA</td>\n      <td>LGA</td>\n      <td>MIA</td>\n      <td>NaN</td>\n      <td>1096</td>\n      <td>15</td>\n      <td>0</td>\n      <td>2013-01-01 15:00:00</td>\n    </tr>\n    <tr>\n      <th>842</th>\n      <td>2013</td>\n      <td>1</td>\n      <td>1</td>\n      <td>NaN</td>\n      <td>600</td>\n      <td>NaN</td>\n      <td>NaN</td>\n      <td>901</td>\n      <td>NaN</td>\n      <td>B6</td>\n      <td>125</td>\n      <td>N618JB</td>\n      <td>JFK</td>\n      <td>FLL</td>\n      <td>NaN</td>\n      <td>1069</td>\n      <td>6</td>\n      <td>0</td>\n      <td>2013-01-01 06:00:00</td>\n    </tr>\n    <tr>\n      <th>...</th>\n      <td>...</td>\n      <td>...</td>\n      <td>...</td>\n      <td>...</td>\n      <td>...</td>\n      <td>...</td>\n      <td>...</td>\n      <td>...</td>\n      <td>...</td>\n      <td>...</td>\n      <td>...</td>\n      <td>...</td>\n      <td>...</td>\n      <td>...</td>\n      <td>...</td>\n      <td>...</td>\n      <td>...</td>\n      <td>...</td>\n      <td>...</td>\n    </tr>\n    <tr>\n      <th>336772</th>\n      <td>2013</td>\n      <td>9</td>\n      <td>30</td>\n      <td>NaN</td>\n      <td>1455</td>\n      <td>NaN</td>\n      <td>NaN</td>\n      <td>1634</td>\n      <td>NaN</td>\n      <td>9E</td>\n      <td>3393</td>\n      <td>NaN</td>\n      <td>JFK</td>\n      <td>DCA</td>\n      <td>NaN</td>\n      <td>213</td>\n      <td>14</td>\n      <td>55</td>\n      <td>2013-09-30 14:00:00</td>\n    </tr>\n    <tr>\n      <th>336773</th>\n      <td>2013</td>\n      <td>9</td>\n      <td>30</td>\n      <td>NaN</td>\n      <td>2200</td>\n      <td>NaN</td>\n      <td>NaN</td>\n      <td>2312</td>\n      <td>NaN</td>\n      <td>9E</td>\n      <td>3525</td>\n      <td>NaN</td>\n      <td>LGA</td>\n      <td>SYR</td>\n      <td>NaN</td>\n      <td>198</td>\n      <td>22</td>\n      <td>0</td>\n      <td>2013-09-30 22:00:00</td>\n    </tr>\n    <tr>\n      <th>336774</th>\n      <td>2013</td>\n      <td>9</td>\n      <td>30</td>\n      <td>NaN</td>\n      <td>1210</td>\n      <td>NaN</td>\n      <td>NaN</td>\n      <td>1330</td>\n      <td>NaN</td>\n      <td>MQ</td>\n      <td>3461</td>\n      <td>N535MQ</td>\n      <td>LGA</td>\n      <td>BNA</td>\n      <td>NaN</td>\n      <td>764</td>\n      <td>12</td>\n      <td>10</td>\n      <td>2013-09-30 12:00:00</td>\n    </tr>\n    <tr>\n      <th>336775</th>\n      <td>2013</td>\n      <td>9</td>\n      <td>30</td>\n      <td>NaN</td>\n      <td>1159</td>\n      <td>NaN</td>\n      <td>NaN</td>\n      <td>1344</td>\n      <td>NaN</td>\n      <td>MQ</td>\n      <td>3572</td>\n      <td>N511MQ</td>\n      <td>LGA</td>\n      <td>CLE</td>\n      <td>NaN</td>\n      <td>419</td>\n      <td>11</td>\n      <td>59</td>\n      <td>2013-09-30 11:00:00</td>\n    </tr>\n    <tr>\n      <th>336776</th>\n      <td>2013</td>\n      <td>9</td>\n      <td>30</td>\n      <td>NaN</td>\n      <td>840</td>\n      <td>NaN</td>\n      <td>NaN</td>\n      <td>1020</td>\n      <td>NaN</td>\n      <td>MQ</td>\n      <td>3531</td>\n      <td>N839MQ</td>\n      <td>LGA</td>\n      <td>RDU</td>\n      <td>NaN</td>\n      <td>431</td>\n      <td>8</td>\n      <td>40</td>\n      <td>2013-09-30 08:00:00</td>\n    </tr>\n  </tbody>\n</table>\n<p>8713 rows × 19 columns</p>\n</div>"
     },
     "execution_count": 27,
     "metadata": {},
     "output_type": "execute_result"
    }
   ],
   "source": [
    "# a: find flights whose arr_time is missing: cancelled flights.\n",
    "arr_time_null = df[df[\"arr_time\"].isnull()]\n",
    "arr_time_null"
   ],
   "metadata": {
    "collapsed": false,
    "pycharm": {
     "name": "#%%\n"
    }
   }
  },
  {
   "cell_type": "code",
   "execution_count": 37,
   "outputs": [
    {
     "data": {
      "text/plain": "month\n1      536\n2     1291\n3      891\n4      710\n5      601\n6     1072\n7     1043\n8      506\n9      504\n10     247\n11     253\n12    1059\nName: month, dtype: int64"
     },
     "execution_count": 37,
     "metadata": {},
     "output_type": "execute_result"
    }
   ],
   "source": [
    "# b. for these flights, group them by month, and find out no. of cancelled flights in each month.\n",
    "arr_time_null.groupby(\"month\")[\"month\"].count()"
   ],
   "metadata": {
    "collapsed": false,
    "pycharm": {
     "name": "#%%\n"
    }
   }
  },
  {
   "cell_type": "markdown",
   "source": [
    "# 3."
   ],
   "metadata": {
    "collapsed": false,
    "pycharm": {
     "name": "#%% md\n"
    }
   }
  },
  {
   "cell_type": "code",
   "execution_count": 46,
   "outputs": [
    {
     "data": {
      "text/plain": "           speed  year  month  day dest  dep_time  arr_time\n11250   0.033333  2013      1   13  PHL    2243.0    2400.0\n14919   0.033927  2013      1   17  PHL    2318.0    2358.0\n21814   0.033941  2013      1   25  PHL    2305.0    2357.0\n20909   0.034043  2013      1   24  PHL    2241.0    2350.0\n25963   0.034173  2013      1   30  PHL    2244.0    2341.0\n114628  0.034291  2013      2    4  PHL    2231.0    2333.0\n15833   0.034483  2013      1   18  PHL    2231.0    2320.0\n19089   0.034527  2013      1   22  PHL    2203.0    2317.0\n17293   0.034542  2013      1   20  PHL    2219.0    2316.0\n6973    0.034722  2013      1    8  PHL    2127.0    2304.0\n24206   0.035414  2013      1   28  PHL    2201.0    2259.0\n113683  0.035603  2013      2    3  PHL    2153.0    2247.0\n115506  0.035746  2013      2    5  PHL    2136.0    2238.0\n26875   0.035810  2013      1   31  PHL    2129.0    2234.0\n117353  0.035810  2013      2    7  PHL    2145.0    2234.0\n9731    0.035826  2013      1   11  PHL    2135.0    2233.0\n5131    0.035971  2013      1    6  PHL    2125.0    2224.0\n8808    0.035987  2013      1   10  PHL    2133.0    2223.0\n2659    0.036004  2013      1    3  PHL    2127.0    2222.0\n25146   0.036020  2013      1   29  PHL    2131.0    2221.0",
      "text/html": "<div>\n<style scoped>\n    .dataframe tbody tr th:only-of-type {\n        vertical-align: middle;\n    }\n\n    .dataframe tbody tr th {\n        vertical-align: top;\n    }\n\n    .dataframe thead th {\n        text-align: right;\n    }\n</style>\n<table border=\"1\" class=\"dataframe\">\n  <thead>\n    <tr style=\"text-align: right;\">\n      <th></th>\n      <th>speed</th>\n      <th>year</th>\n      <th>month</th>\n      <th>day</th>\n      <th>dest</th>\n      <th>dep_time</th>\n      <th>arr_time</th>\n    </tr>\n  </thead>\n  <tbody>\n    <tr>\n      <th>11250</th>\n      <td>0.033333</td>\n      <td>2013</td>\n      <td>1</td>\n      <td>13</td>\n      <td>PHL</td>\n      <td>2243.0</td>\n      <td>2400.0</td>\n    </tr>\n    <tr>\n      <th>14919</th>\n      <td>0.033927</td>\n      <td>2013</td>\n      <td>1</td>\n      <td>17</td>\n      <td>PHL</td>\n      <td>2318.0</td>\n      <td>2358.0</td>\n    </tr>\n    <tr>\n      <th>21814</th>\n      <td>0.033941</td>\n      <td>2013</td>\n      <td>1</td>\n      <td>25</td>\n      <td>PHL</td>\n      <td>2305.0</td>\n      <td>2357.0</td>\n    </tr>\n    <tr>\n      <th>20909</th>\n      <td>0.034043</td>\n      <td>2013</td>\n      <td>1</td>\n      <td>24</td>\n      <td>PHL</td>\n      <td>2241.0</td>\n      <td>2350.0</td>\n    </tr>\n    <tr>\n      <th>25963</th>\n      <td>0.034173</td>\n      <td>2013</td>\n      <td>1</td>\n      <td>30</td>\n      <td>PHL</td>\n      <td>2244.0</td>\n      <td>2341.0</td>\n    </tr>\n    <tr>\n      <th>114628</th>\n      <td>0.034291</td>\n      <td>2013</td>\n      <td>2</td>\n      <td>4</td>\n      <td>PHL</td>\n      <td>2231.0</td>\n      <td>2333.0</td>\n    </tr>\n    <tr>\n      <th>15833</th>\n      <td>0.034483</td>\n      <td>2013</td>\n      <td>1</td>\n      <td>18</td>\n      <td>PHL</td>\n      <td>2231.0</td>\n      <td>2320.0</td>\n    </tr>\n    <tr>\n      <th>19089</th>\n      <td>0.034527</td>\n      <td>2013</td>\n      <td>1</td>\n      <td>22</td>\n      <td>PHL</td>\n      <td>2203.0</td>\n      <td>2317.0</td>\n    </tr>\n    <tr>\n      <th>17293</th>\n      <td>0.034542</td>\n      <td>2013</td>\n      <td>1</td>\n      <td>20</td>\n      <td>PHL</td>\n      <td>2219.0</td>\n      <td>2316.0</td>\n    </tr>\n    <tr>\n      <th>6973</th>\n      <td>0.034722</td>\n      <td>2013</td>\n      <td>1</td>\n      <td>8</td>\n      <td>PHL</td>\n      <td>2127.0</td>\n      <td>2304.0</td>\n    </tr>\n    <tr>\n      <th>24206</th>\n      <td>0.035414</td>\n      <td>2013</td>\n      <td>1</td>\n      <td>28</td>\n      <td>PHL</td>\n      <td>2201.0</td>\n      <td>2259.0</td>\n    </tr>\n    <tr>\n      <th>113683</th>\n      <td>0.035603</td>\n      <td>2013</td>\n      <td>2</td>\n      <td>3</td>\n      <td>PHL</td>\n      <td>2153.0</td>\n      <td>2247.0</td>\n    </tr>\n    <tr>\n      <th>115506</th>\n      <td>0.035746</td>\n      <td>2013</td>\n      <td>2</td>\n      <td>5</td>\n      <td>PHL</td>\n      <td>2136.0</td>\n      <td>2238.0</td>\n    </tr>\n    <tr>\n      <th>26875</th>\n      <td>0.035810</td>\n      <td>2013</td>\n      <td>1</td>\n      <td>31</td>\n      <td>PHL</td>\n      <td>2129.0</td>\n      <td>2234.0</td>\n    </tr>\n    <tr>\n      <th>117353</th>\n      <td>0.035810</td>\n      <td>2013</td>\n      <td>2</td>\n      <td>7</td>\n      <td>PHL</td>\n      <td>2145.0</td>\n      <td>2234.0</td>\n    </tr>\n    <tr>\n      <th>9731</th>\n      <td>0.035826</td>\n      <td>2013</td>\n      <td>1</td>\n      <td>11</td>\n      <td>PHL</td>\n      <td>2135.0</td>\n      <td>2233.0</td>\n    </tr>\n    <tr>\n      <th>5131</th>\n      <td>0.035971</td>\n      <td>2013</td>\n      <td>1</td>\n      <td>6</td>\n      <td>PHL</td>\n      <td>2125.0</td>\n      <td>2224.0</td>\n    </tr>\n    <tr>\n      <th>8808</th>\n      <td>0.035987</td>\n      <td>2013</td>\n      <td>1</td>\n      <td>10</td>\n      <td>PHL</td>\n      <td>2133.0</td>\n      <td>2223.0</td>\n    </tr>\n    <tr>\n      <th>2659</th>\n      <td>0.036004</td>\n      <td>2013</td>\n      <td>1</td>\n      <td>3</td>\n      <td>PHL</td>\n      <td>2127.0</td>\n      <td>2222.0</td>\n    </tr>\n    <tr>\n      <th>25146</th>\n      <td>0.036020</td>\n      <td>2013</td>\n      <td>1</td>\n      <td>29</td>\n      <td>PHL</td>\n      <td>2131.0</td>\n      <td>2221.0</td>\n    </tr>\n  </tbody>\n</table>\n</div>"
     },
     "execution_count": 46,
     "metadata": {},
     "output_type": "execute_result"
    }
   ],
   "source": [
    "df[\"speed\"] = df.distance / df.arr_time\n",
    "df[['speed','year','month','day','dest','dep_time','arr_time']].sort_values(\"speed\").head(20)"
   ],
   "metadata": {
    "collapsed": false,
    "pycharm": {
     "name": "#%%\n"
    }
   }
  },
  {
   "cell_type": "markdown",
   "source": [
    "# 4."
   ],
   "metadata": {
    "collapsed": false,
    "pycharm": {
     "name": "#%% md\n"
    }
   }
  },
  {
   "cell_type": "code",
   "execution_count": 55,
   "outputs": [
    {
     "data": {
      "text/plain": "carrier\nAS    -9.930889\nHA    -6.915205\nAA     0.364291\nDL     1.644341\nVX     1.764464\nUS     2.129595\nUA     3.558011\n9E     7.379669\nB6     9.457973\nWN     9.649120\nMQ    10.774733\nOO    11.931034\nYV    15.556985\nEV    15.796431\nFL    20.115906\nF9    21.920705\nName: arr_delay, dtype: float64"
     },
     "execution_count": 55,
     "metadata": {},
     "output_type": "execute_result"
    }
   ],
   "source": [
    "# 4. group flights by carrier, and find the average arrival delay in each group, and sort the data by the averaged arrival delay.\n",
    "df.groupby(\"carrier\")[\"arr_delay\"].agg(\"mean\").sort_values()"
   ],
   "metadata": {
    "collapsed": false,
    "pycharm": {
     "name": "#%%\n"
    }
   }
  },
  {
   "cell_type": "markdown",
   "source": [
    "# 5."
   ],
   "metadata": {
    "collapsed": false,
    "pycharm": {
     "name": "#%% md\n"
    }
   }
  },
  {
   "cell_type": "code",
   "execution_count": 58,
   "outputs": [
    {
     "data": {
      "text/plain": "carrier\nUS    19.372699\nDL    24.352763\nMQ    24.581260\nUA    24.632706\nAA    25.282624\nB6    25.494533\nWN    26.240120\nHA    26.786550\nVX    28.163995\nAS    28.252468\nFL    28.938583\nOO    29.862069\n9E    30.439574\nEV    30.451045\nF9    32.854626\nYV    32.895221\nName: deviance, dtype: float64"
     },
     "execution_count": 58,
     "metadata": {},
     "output_type": "execute_result"
    }
   ],
   "source": [
    "# 5. create a variable deviance as the absolute value of arrival delay, group flights by carrier, and find the average arrival delay in each group, and sort the data by the averaged arrival delay.\n",
    "df[\"deviance\"] = abs(df.arr_delay)\n",
    "df.groupby(\"carrier\")[\"deviance\"].agg(\"mean\").sort_values()"
   ],
   "metadata": {
    "collapsed": false,
    "pycharm": {
     "name": "#%%\n"
    }
   }
  }
 ],
 "metadata": {
  "kernelspec": {
   "display_name": "Python 3",
   "language": "python",
   "name": "python3"
  },
  "language_info": {
   "codemirror_mode": {
    "name": "ipython",
    "version": 2
   },
   "file_extension": ".py",
   "mimetype": "text/x-python",
   "name": "python",
   "nbconvert_exporter": "python",
   "pygments_lexer": "ipython2",
   "version": "2.7.6"
  }
 },
 "nbformat": 4,
 "nbformat_minor": 0
}